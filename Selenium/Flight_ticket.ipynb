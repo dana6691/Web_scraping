{
 "metadata": {
  "language_info": {
   "codemirror_mode": {
    "name": "ipython",
    "version": 3
   },
   "file_extension": ".py",
   "mimetype": "text/x-python",
   "name": "python",
   "nbconvert_exporter": "python",
   "pygments_lexer": "ipython3",
   "version": "3.8.5-final"
  },
  "orig_nbformat": 2,
  "kernelspec": {
   "name": "python_defaultSpec_1599173031772",
   "display_name": "Python 3.8.5 64-bit"
  }
 },
 "nbformat": 4,
 "nbformat_minor": 2,
 "cells": [
  {
   "cell_type": "markdown",
   "source": [
    "# Google Flight Information\n",
    "- flight to Chicago\n",
    "- date 2020/9/14 -2020/9/16\n",
    "- find flight information(time, duration, price)"
   ],
   "metadata": {}
  },
  {
   "cell_type": "code",
   "execution_count": 55,
   "source": [
    "from selenium import webdriver\r\n",
    "from selenium.webdriver.common.by import By\r\n",
    "from selenium.webdriver.support.ui import WebDriverWait\r\n",
    "from selenium.webdriver.support import expected_conditions as EC\r\n",
    "\r\n",
    "browser = webdriver.Chrome('/Users/daheekim/Desktop/VisualStudio/Web-scraping-crawling-/Selenium/chromedriver') \r\n",
    "url = \"https://www.google.com/flights?hl=en#flt=/m/013l6l..2020-09-09*./m/013l6l.2020-09-13;c:USD;e:1;ls:1w;sd:0;t:h\"\r\n",
    "browser.get(url)\r\n",
    "\r\n",
    "#destination\r\n",
    "browser.find_element_by_xpath(\"//*[@id='flt-app']/div[2]/main[1]/div[4]/div/div[3]/div/div[2]/div[2]\").click()\r\n",
    "browser.find_element_by_xpath(\"//*[@id='sb_ifc50']/input\").send_keys(\"Chicago\")\r\n",
    "from selenium.webdriver.common.keys import Keys\r\n",
    "browser.find_element_by_xpath(\"//*[@id='sb_ifc50']/input\").send_keys(Keys.ENTER)\r\n",
    "\r\n",
    "#date\r\n",
    "browser.find_element_by_xpath(\"//*[@id='flt-app']/div[2]/main[1]/div[4]/div/div[3]/div/div[2]/div[4]/div[1]/div[2]/span\").click()\r\n",
    "browser.find_element_by_xpath(\"//*[@data-day='2020-09-14']\").click()\r\n",
    "browser.find_element_by_xpath(\"//*[@data-day='2020-09-16']\").click()\r\n",
    "browser.find_element_by_class_name(\"eE8hUfzg9Na__overlay\").click()\r\n"
   ],
   "outputs": [],
   "metadata": {}
  },
  {
   "cell_type": "code",
   "execution_count": 56,
   "source": [
    "import requests\r\n",
    "from bs4 import BeautifulSoup\r\n",
    "import re\r\n",
    "\r\n",
    "soup = BeautifulSoup(browser.page_source, \"lxml\")\r\n",
    "movies = soup.find_all(\"li\", attrs={\"class\":\"gws-flights-results__result-item gws-flights__flex-box gws-flights-results__collapsed\"})\r\n",
    "\r\n",
    "for movie in movies:\r\n",
    "    time = movie.find(\"div\", attrs={\"class\":\"gws-flights-results__times flt-subhead1\"}).get_text()\r\n",
    "    duration = movie.find(\"div\",attrs={\"class\":\"gws-flights-results__duration flt-subhead1Normal\"}).get_text()\r\n",
    "    price = movie.find(\"div\", attrs={\"class\":re.compile(\"flt-subhead1 gws-flights-results__price\")}).get_text()\r\n",
    "    print(\"-\"*100)\r\n",
    "    print(time,duration, price)"
   ],
   "outputs": [
    {
     "output_type": "stream",
     "name": "stdout",
     "text": [
      "3:28 PM   –   11:58 PM    8h 30m    $138   \n",
      "----------------------------------------------------------------------------------------------------\n",
      "   8:00 AM   –   9:44 AM    1h 44m       $601   \n",
      "----------------------------------------------------------------------------------------------------\n",
      "   6:06 AM   –   7:45 AM    1h 39m       $662   \n",
      "----------------------------------------------------------------------------------------------------\n",
      "   3:28 PM   –   9:34 AM+1    18h 6m    $108   \n",
      "----------------------------------------------------------------------------------------------------\n",
      "   5:45 PM   –   11:00 PM    5h 15m       $379   \n",
      "----------------------------------------------------------------------------------------------------\n",
      "   5:52 PM   –   9:10 AM+1    15h 18m       $466   \n",
      "----------------------------------------------------------------------------------------------------\n",
      "   11:00 AM   –   12:44 PM    1h 44m       $601   \n",
      "----------------------------------------------------------------------------------------------------\n",
      "   3:00 PM   –   4:44 PM    1h 44m       $601   \n",
      "----------------------------------------------------------------------------------------------------\n",
      "   5:18 PM   –   7:02 PM    1h 44m       $662   \n",
      "----------------------------------------------------------------------------------------------------\n",
      "   5:52 PM   –   9:29 PM    3h 37m       $707   \n",
      "----------------------------------------------------------------------------------------------------\n",
      "   3:30 PM   –   6:36 PM    3h 6m       $859   \n",
      "----------------------------------------------------------------------------------------------------\n"
     ]
    }
   ],
   "metadata": {
    "tags": []
   }
  },
  {
   "cell_type": "markdown",
   "source": [
    "# Naver Flight"
   ],
   "metadata": {}
  },
  {
   "cell_type": "code",
   "execution_count": 64,
   "source": [
    "from selenium import webdriver\r\n",
    "from selenium.webdriver.common.by import By\r\n",
    "from selenium.webdriver.support.ui import WebDriverWait\r\n",
    "from selenium.webdriver.support import expected_conditions as EC\r\n",
    "\r\n",
    "browser = webdriver.Chrome('/Users/daheekim/Desktop/VisualStudio/Web-scraping-crawling-/Selenium/chromedriver') \r\n",
    "browser.maximize_window() # maximize browser\r\n",
    "\r\n",
    "url = \"https://flight.naver.com/flights/\"\r\n",
    "browser.get(url) \r\n",
    "\r\n",
    "# choose date\r\n",
    "browser.find_element_by_link_text(\"가는날 선택\").click()\r\n",
    "\r\n",
    "# this month 27, next month 28\r\n",
    "browser.find_elements_by_link_text(\"27\")[0].click() # [0] -> this month\r\n",
    "browser.find_elements_by_link_text(\"28\")[1].click() # [1] -> next month\r\n",
    "\r\n",
    "# select jeju island\r\n",
    "browser.find_element_by_xpath(\"//*[@id='recommendationList']/ul/li[1]\").click()\r\n",
    "\r\n",
    "# search click\r\n",
    "browser.find_element_by_link_text(\"항공권 검색\").click()\r\n"
   ],
   "outputs": [],
   "metadata": {
    "tags": []
   }
  },
  {
   "cell_type": "code",
   "execution_count": 65,
   "source": [
    "elem = WebDriverWait(browser, 10).until(EC.presence_of_element_located((By.XPATH, \"//*[@id='content']/div[2]/div/div[4]/ul/li[1]\")))\n",
    "print(elem.text) # first search result"
   ],
   "outputs": [
    {
     "output_type": "stream",
     "name": "stdout",
     "text": [
      "에어서울\n",
      "출발지\n",
      "GMP\n",
      "06:00\n",
      "도착지\n",
      "CJU\n",
      "07:00\n",
      "총 소요시간\n",
      "01시간 00분\n",
      "할인석\n",
      "편도 35,900원\n",
      "성인\n"
     ]
    }
   ],
   "metadata": {
    "tags": []
   }
  }
 ]
}